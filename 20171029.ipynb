{
 "cells": [
  {
   "cell_type": "markdown",
   "metadata": {
    "editable": false
   },
   "source": [
    "# Assignment 1\n",
    "This jupyter notebook is meant to be used in conjunction with the full questions in the assignment pdf.\n",
    "\n",
    "## Instructions\n",
    "- Write your code and analyses in the indicated cells.\n",
    "- Ensure that this notebook runs without errors when the cells are run in sequence.\n",
    "- Do not attempt to change the contents of the other cells.\n",
    "\n",
    "## Submission\n",
    "- Ensure that this notebook runs without errors when the cells are run in sequence.\n",
    "- Rename the notebook to `<roll_number>.ipynb` and submit ONLY the notebook file on moodle."
   ]
  },
  {
   "cell_type": "markdown",
   "metadata": {
    "editable": false
   },
   "source": [
    "### Environment setup\n",
    "\n",
    "The following code reads the train and test data (provided along with this template) and outputs the data and labels as numpy arrays. Use these variables in your code.\n",
    "\n",
    "---\n",
    "#### Note on conventions\n",
    "In mathematical notation, the convention is tha data matrices are column-indexed, which means that a input data $x$ has shape $[d, n]$, where $d$ is the number of dimensions and $n$ is the number of data points, respectively.\n",
    "\n",
    "Programming languages have a slightly different convention. Data matrices are of shape $[n, d]$. This has the benefit of being able to access the ith data point as a simple `data[i]`.\n",
    "\n",
    "What this means is that you need to be careful about your handling of matrix dimensions. For example, while the covariance matrix (of shape $[d,d]$) for input data $x$ is calculated as $(x-u)(x-u)^T$, while programming you would do $(x-u)^T(x-u)$ to get the correct output shapes."
   ]
  },
  {
   "cell_type": "code",
   "execution_count": 1,
   "metadata": {
    "editable": false,
    "scrolled": false
   },
   "outputs": [
    {
     "name": "stdout",
     "output_type": "stream",
     "text": [
      "(6000, 784) (1000, 784)\n",
      "(6000,) (1000,)\n"
     ]
    }
   ],
   "source": [
    "from __future__ import print_function\n",
    "\n",
    "import numpy as np\n",
    "import matplotlib.pyplot as plt\n",
    "\n",
    "def read_data(filename):\n",
    "    with open(filename, 'r') as f:\n",
    "        lines = f.readlines()\n",
    "    \n",
    "    num_points = len(lines)\n",
    "    dim_points = 28 * 28\n",
    "    data = np.empty((num_points, dim_points))\n",
    "    labels = np.empty(num_points)\n",
    "    \n",
    "    for ind, line in enumerate(lines):\n",
    "        num = line.split(',')\n",
    "        labels[ind] = int(num[0])\n",
    "        data[ind] = [ int(x) for x in num[1:] ]\n",
    "        \n",
    "    return (data, labels)\n",
    "\n",
    "train_data, train_labels = read_data(\"sample_train.csv\")\n",
    "test_data, test_labels = read_data(\"sample_test.csv\")\n",
    "print(train_data.shape, test_data.shape)\n",
    "print(train_labels.shape, test_labels.shape)"
   ]
  },
  {
   "cell_type": "markdown",
   "metadata": {
    "editable": false
   },
   "source": [
    "# Questions\n",
    "---\n",
    "## 1.3.1 Representation\n",
    "The next code cells, when run, should plot the eigen value spectrum of the covariance matrices corresponding to the mentioned samples. Normalize the eigen value spectrum and only show the first 100 values."
   ]
  },
  {
   "cell_type": "code",
   "execution_count": 2,
   "metadata": {
    "scrolled": true
   },
   "outputs": [
    {
     "data": {
      "image/png": "[encoded data removed]",
      "text/plain": [
       "<Figure size 432x288 with 1 Axes>"
      ]
     },
     "metadata": {
      "needs_background": "light"
     },
     "output_type": "display_data"
    }
   ],
   "source": [
    "# Samples corresponding to the last digit of your roll number (plot a)\n",
    "# def gen_sample(train_data, train_labels, last_digit):\n",
    "#     no_data_pts, dimension = train_data.shape[0], train_data.shape[1]\n",
    "#     no_sample_pts = 0\n",
    "#     for index in range(no_data_pts):\n",
    "#         if train_labels[index] == last_digit:\n",
    "#             no_sample_pts = no_sample_pts + 1\n",
    "            \n",
    "#     sample = np.empty((no_sample_pts, dimension))\n",
    "#     sample_index = 0\n",
    "    \n",
    "#     for index in range(no_data_pts):\n",
    "#         if train_labels[index] == last_digit:\n",
    "#             sample[sample_index] = train_data[index]\n",
    "#             sample_index = sample_index + 1\n",
    "#     sample = sample.T\n",
    "#     return sample\n",
    "\n",
    "def plot(sample, no_eigval, eigen_val):\n",
    "    eigen_val = np.sort(eigen_val)\n",
    "    eigen_val = eigen_val[::-1]\n",
    "    eigen_val = eigen_val[0:no_eigval]\n",
    "    eigen_max, eigen_min = eigen_val[0], eigen_val[no_eigval-1]\n",
    "    eigen_val = (eigen_val - eigen_min)/(eigen_max - eigen_min)\n",
    "    x_values = np.arange(no_eigval)\n",
    "    plt.bar(x_values, eigen_val[0:no_eigval])\n",
    "    plt.show()\n",
    "    \n",
    "sample = train_data[np.where(train_labels == 9)]\n",
    "cov_sample = np.cov(sample.T)\n",
    "eig_sample = np.linalg.eig(cov_sample)\n",
    "plot(sample, 100, eig_sample[0].real)"
   ]
  },
  {
   "cell_type": "code",
   "execution_count": 3,
   "metadata": {},
   "outputs": [
    {
     "data": {
      "image/png": "[encoded data removed]",
      "text/plain": [
       "<Figure size 432x288 with 1 Axes>"
      ]
     },
     "metadata": {
      "needs_background": "light"
     },
     "output_type": "display_data"
    }
   ],
   "source": [
    "# Samples corresponding to the last digit of (your roll number + 1) % 10 (plot b)\n",
    "sample = train_data[np.where(train_labels == 0)]\n",
    "cov_sample = np.cov(sample.T)\n",
    "eig_sample = np.linalg.eig(cov_sample)\n",
    "plot(sample, 100, eig_sample[0].real)"
   ]
  },
  {
   "cell_type": "code",
   "execution_count": 4,
   "metadata": {},
   "outputs": [
    {
     "data": {
      "image/png": "[encoded data removed]",
      "text/plain": [
       "<Figure size 432x288 with 1 Axes>"
      ]
     },
     "metadata": {
      "needs_background": "light"
     },
     "output_type": "display_data"
    }
   ],
   "source": [
    "# All training data (plot c)\n",
    "full_data = train_data.T\n",
    "cov_train = np.cov(full_data)\n",
    "eig_train = np.linalg.eig(cov_train)\n",
    "plot(train_data, 100, eig_train[0].real)"
   ]
  },
  {
   "cell_type": "code",
   "execution_count": 5,
   "metadata": {},
   "outputs": [
    {
     "data": {
      "image/png": "[encoded data removed]",
      "text/plain": [
       "<Figure size 432x288 with 1 Axes>"
      ]
     },
     "metadata": {
      "needs_background": "light"
     },
     "output_type": "display_data"
    }
   ],
   "source": [
    "# Randomly selected 50% of the training data (plot d)\n",
    "random_sample = train_data[ np.random.choice(train_data.shape[0], train_data.shape[0]//2, replace=False), :]\n",
    "# a = [ [1,2], [3,4], [4,5], [6,7] ] \n",
    "# a = np.array(a)\n",
    "# #print(a)\n",
    "#print( a[ np.random.choice(a.shape[0], 2, replace=False), :] )\n",
    "eig_rand = np.linalg.eig(np.cov(random_sample.T))\n",
    "plot(random_sample, 100, eig_rand[0].real)"
   ]
  },
  {
   "cell_type": "markdown",
   "metadata": {
    "editable": false
   },
   "source": [
    "### 1.3.1 Question 1\n",
    "- Are plots a and b different? Why?\n",
    "- Are plots b and c different? Why?\n",
    "- What are the approximate ranks of each plot?"
   ]
  },
  {
   "cell_type": "markdown",
   "metadata": {},
   "source": [
    "---\n",
    "Your answers here (double click to edit)\n",
    "1) Plots of a and b except for some inital points are quite similar to each other. This is because the data points ( dimension = 784 ) corresponding to the labels '0' and  '9' respectively are similar in values.\n",
    "\n",
    "2) Plots of b and c are different. This is because plot c takes all the data points of our training data while plot b considers only the label '0'. Beacuse of this eigenvalues are different hence the eigenspectrum is different.\n",
    "3) Approximate ranks for plot a, b, c and d are respectively 42, 42, 63, 63. This is computed by observing the number of non-zero eigenvalues in the plots shown above.\n",
    "\n",
    "---"
   ]
  },
  {
   "cell_type": "markdown",
   "metadata": {
    "editable": false
   },
   "source": [
    "### 1.3.1 Question 2\n",
    "- How many possible images could there be?\n",
    "- What percentage is accessible to us as MNIST data?\n",
    "- If we had acces to all the data, how would the eigen value spectrum of the covariance matrix look?"
   ]
  },
  {
   "cell_type": "markdown",
   "metadata": {},
   "source": [
    "---\n",
    "Your answers here (double click to edit)\n",
    "1) 2^784\n",
    "2) (7000/2^784)*100\n",
    "3) For the case where we have access to all of the data, the spread of data would be uniform in each dimension. Hence \n",
    "   there is symmetry in our spread of data in each of the possible directions. Due to this symmetry, we will observe \n",
    "   that only one eigenvalue repeats n times.( n being the dimension of covariance matrix )\n",
    "---"
   ]
  },
  {
   "cell_type": "markdown",
   "metadata": {
    "editable": false
   },
   "source": [
    "## 1.3.2 Linear Transformation\n",
    "---\n",
    "### 1.3.2 Question 1\n",
    "How does the eigen spectrum change if the original data was multiplied by an orthonormal matrix? Answer analytically and then also validate experimentally."
   ]
  },
  {
   "cell_type": "markdown",
   "metadata": {},
   "source": [
    "---\n",
    "Analytical answer here (double click to edit)\n",
    "Suppose A is our data matrix and S is the covariance matrix corresponding to it.\n",
    "Suppose S1 is the covariance matrix corresponding to the orthonormal transformation of our data.\n",
    "We know, S1 = A*S*A^T ( since each data x is being transformed to Ax )\n",
    "Let eigendecomposition for S = MDM^-1 where M is the matrix constructed by taking each eigenvector of S as the column of M and D is the diagonal matrix with eigenvalues of S as its diagonal entries.\n",
    "Hence, S1 = A*M*D*M^-1*A^T\n",
    "Since, A^T = A^-1 Therefore, S1 = A*M*D*M^-1*A^-1 = (A*M)*D(A*M)^-1 - (1)\n",
    "From (1) , we get the eigendecomposition for S1 with the same diagonal matrix D as in case of S. Hence, eigenvalues remain same after orthonormal transformation.\n",
    "\n",
    "---"
   ]
  },
  {
   "cell_type": "code",
   "execution_count": 6,
   "metadata": {
    "scrolled": true
   },
   "outputs": [
    {
     "data": {
      "image/png": "[encoded data removed]",
      "text/plain": [
       "<Figure size 432x288 with 1 Axes>"
      ]
     },
     "metadata": {
      "needs_background": "light"
     },
     "output_type": "display_data"
    }
   ],
   "source": [
    "# Experimental validation here.\n",
    "# Multiply your data (train_data) with an orthonormal matrix and plot the\n",
    "# eigen value specturm of the new covariance matrix.\n",
    "# code goes here\n",
    "\n",
    "dim = 784\n",
    "rand_matrix = np.random.rand(dim, dim)\n",
    "ortho, nonortho = np.linalg.qr(rand_matrix)\n",
    "def orthonormal_transform(train_data, ortho):\n",
    "    no_data_pts = train_data.shape[0]\n",
    "    transform_train_data = np.empty((train_data.shape[0], train_data.shape[1]))\n",
    "    for i in range(no_data_pts):\n",
    "        transform_train_data[i] = np.matmul(ortho, train_data[i])\n",
    "    \n",
    "    return transform_train_data\n",
    "\n",
    "transform = orthonormal_transform(train_data, ortho)\n",
    "cov_transform = np.cov(transform.T)\n",
    "eig_transform = np.linalg.eig(cov_transform)\n",
    "plot(transform, 100, eig_transform[0].real)"
   ]
  },
  {
   "cell_type": "markdown",
   "metadata": {
    "editable": false
   },
   "source": [
    "### 1.3.2 Question 2\n",
    "If  samples  were  multiplied  by  784 × 784  matrix  of rank 1 or 2, (rank deficient matrices), how will the eigen spectrum look like?"
   ]
  },
  {
   "cell_type": "markdown",
   "metadata": {},
   "source": [
    "---\n",
    "Your answer here (double click to edit)\n",
    "If samples were multiplied by a rank deficient matrix, the rank of covariance matrix would  become the rank of the rank deficient matrix since rank(AB) - min(rank(A), rank(B)). Hence, the  values in the eigenspectrum would mostly be zero barring 1 or 2 values(depending on rank of matrix being multiplied).\n",
    "\n",
    "---"
   ]
  },
  {
   "cell_type": "markdown",
   "metadata": {
    "editable": false
   },
   "source": [
    "### 1.3.2 Question 3\n",
    "Project the original data into the first and second eigenvectors and plot in 2D"
   ]
  },
  {
   "cell_type": "code",
   "execution_count": 7,
   "metadata": {
    "scrolled": true
   },
   "outputs": [
    {
     "data": {
      "text/plain": [
       "[<matplotlib.lines.Line2D at 0x7f4ec66b5780>]"
      ]
     },
     "execution_count": 7,
     "metadata": {},
     "output_type": "execute_result"
    },
    {
     "data": {
      "image/png": "[encoded data removed]",
      "text/plain": [
       "<Figure size 432x288 with 1 Axes>"
      ]
     },
     "metadata": {
      "needs_background": "light"
     },
     "output_type": "display_data"
    }
   ],
   "source": [
    "# plot code here\n",
    "eigval, eigvec = np.linalg.eig(cov_train)\n",
    "#print(eigvec.shape)\n",
    "index_sort = np.argsort(eigval)[::-1]\n",
    "eigvec1 = eigvec[:,index_sort[0]].real\n",
    "eigvec2 = eigvec[:,index_sort[1]].real\n",
    "#print(eigvec1)\n",
    "x1 = np.matmul(train_data, eigvec1)\n",
    "x2 = np.matmul(train_data, eigvec2)\n",
    "#plt.axis([-90,40,-40,40])\n",
    "plt.plot(x1, x2, '>', color='red')"
   ]
  },
  {
   "cell_type": "markdown",
   "metadata": {
    "editable": false
   },
   "source": [
    "## 1.3.3 Probabilistic View\n",
    "---\n",
    "In this section you will classify the test set by fitting multivariate gaussians on the train set, with different choices for decision boundaries. On running, your code should print the accuracy on your test set."
   ]
  },
  {
   "cell_type": "code",
   "execution_count": 8,
   "metadata": {
    "scrolled": true
   },
   "outputs": [
    {
     "name": "stdout",
     "output_type": "stream",
     "text": [
      "94.5\n"
     ]
    }
   ],
   "source": [
    "# Print accuracy on the test set using MLE\n",
    "def get_prob_from_gaussian(mean_class, cov_class, cov_inv, test_sample):\n",
    "    x_minus_mean = test_sample - mean_class\n",
    "    mahalanobis_dis = np.matmul(x_minus_mean, cov_inv)\n",
    "    mahalanobis_dis = np.matmul(mahalanobis_dis, x_minus_mean.T)\n",
    "    cov_det = np.linalg.det(cov_class)\n",
    "    dim = cov_class.shape[0]\n",
    "    log_term = -mahalanobis_dis/2 - 0.5*dim*np.log(2*np.pi) - 0.5*np.log(cov_det)\n",
    "    return log_term\n",
    "    \n",
    "accuracy = 0\n",
    "rank = 40\n",
    "reduced_train_data = np.empty((train_data.shape[0], rank))\n",
    "reduced_test_data = np.empty((test_data.shape[0], rank))\n",
    "eff_eig_vec = np.empty((rank, train_data.shape[1]))\n",
    "\n",
    "for i in range(rank):\n",
    "    eff_eig_vec[i] = eigvec[:,index_sort[i]].real\n",
    "\n",
    "eff_eig_vec = eff_eig_vec.T\n",
    "reduced_train_data = np.matmul(train_data, eff_eig_vec)\n",
    "reduced_test_data = np.matmul(test_data, eff_eig_vec)\n",
    "cov_class = np.empty((10, reduced_train_data.shape[1], reduced_train_data.shape[1]))\n",
    "\n",
    "for test_index in range(reduced_test_data.shape[0]):\n",
    "    prob = -10**20\n",
    "    class_label = -2\n",
    "    for class_index in range(10):\n",
    "        sample_class = reduced_train_data[np.where(train_labels==class_index)]\n",
    "        cov_class[class_index] = np.cov(sample_class.T)\n",
    "        mean_class = np.mean(sample_class, axis=0)\n",
    "        cov_inv = np.linalg.inv(cov_class[class_index])\n",
    "        log_term = get_prob_from_gaussian(mean_class, cov_class[class_index], cov_inv, reduced_test_data[test_index])\n",
    "        if prob<log_term:\n",
    "            prob = log_term\n",
    "            class_label = class_index\n",
    "    if test_labels[test_index] == class_label:\n",
    "        accuracy = accuracy + 1\n",
    "\n",
    "print((accuracy/1000)*100)"
   ]
  },
  {
   "cell_type": "code",
   "execution_count": 9,
   "metadata": {
    "scrolled": true
   },
   "outputs": [
    {
     "name": "stdout",
     "output_type": "stream",
     "text": [
      "94.5\n"
     ]
    }
   ],
   "source": [
    "# Print accuracy on the test set using MAP\n",
    "# (assume a reasonable prior and mention it in the comments)\n",
    "def get_prob_from_gaussian(mean_class, cov_class, cov_inv, test_sample):\n",
    "    x_minus_mean = test_sample - mean_class\n",
    "    mahalanobis_dis = np.matmul(x_minus_mean, cov_inv)\n",
    "    mahalanobis_dis = np.matmul(mahalanobis_dis, x_minus_mean.T)\n",
    "    cov_det = np.linalg.det(cov_class)\n",
    "    dim = cov_class.shape[0]\n",
    "    log_term = -mahalanobis_dis/2 - 0.5*dim*np.log(2*np.pi) - 0.5*np.log(cov_det) - np.log(10)\n",
    "    return log_term\n",
    "    \n",
    "accuracy = 0\n",
    "rank = 40\n",
    "# # eigval, eigvec = np.linalg.eig(cov_train)\n",
    "# reduced_train_data = np.empty((train_data.shape[0], rank))\n",
    "# reduced_test_data = np.empty((test_data.shape[0], rank))\n",
    "# #index_sort = np.argsort(eigval)[::-1]\n",
    "# eff_eig_vec = np.empty((rank, train_data.shape[1]))\n",
    "\n",
    "# for i in range(rank):\n",
    "#     eff_eig_vec[i] = eigvec[:,index_sort[i]].real\n",
    "\n",
    "# eff_eig_vec = eff_eig_vec.T\n",
    "# reduced_train_data = np.matmul(train_data, eff_eig_vec)\n",
    "# reduced_test_data = np.matmul(test_data, eff_eig_vec)\n",
    "# cov_class = np.empty((10, reduced_train_data.shape[1], reduced_train_data.shape[1]))\n",
    "\n",
    "for test_index in range(reduced_test_data.shape[0]):\n",
    "    prob = -10**20\n",
    "    class_label = -2\n",
    "    for class_index in range(10):\n",
    "        sample_class = reduced_train_data[np.where(train_labels==class_index)]\n",
    "        cov_class[class_index] = np.cov(sample_class.T)\n",
    "        mean_class = np.mean(sample_class, axis=0)\n",
    "        cov_inv = np.linalg.inv(cov_class[class_index])\n",
    "        log_term = get_prob_from_gaussian(mean_class, cov_class[class_index], cov_inv, reduced_test_data[test_index])\n",
    "        if prob<log_term:\n",
    "            prob = log_term\n",
    "            class_label = class_index\n",
    "    if test_labels[test_index] == class_label:\n",
    "        accuracy = accuracy + 1\n",
    "\n",
    "print((accuracy/1000)*100)"
   ]
  },
  {
   "cell_type": "code",
   "execution_count": 10,
   "metadata": {},
   "outputs": [
    {
     "name": "stdout",
     "output_type": "stream",
     "text": [
      "88.2\n"
     ]
    }
   ],
   "source": [
    "# Print accuracy using Bayesian pairwise majority voting method\n",
    "def get_prob_from_gaussian(mean_class, cov_class, cov_inv, test_sample):\n",
    "#     test_sample = test_sample.T\n",
    "#     print(test_sample.shape)\n",
    "    x_minus_mean = test_sample - mean_class\n",
    "    #print(x_minus_mean.shape)\n",
    "    mahalanobis_dis = np.matmul(x_minus_mean, cov_inv)\n",
    "    mahalanobis_dis = np.matmul(mahalanobis_dis, x_minus_mean.T)\n",
    "    cov_det = np.linalg.det(cov_class)\n",
    "    dim = cov_class.shape[0]\n",
    "    log_term = -mahalanobis_dis/2 - 0.5*dim*np.log(2*np.pi)\n",
    "    return log_term\n",
    "    \n",
    "accuracy = 0\n",
    "rank = 40\n",
    "#eigval, eigvec = np.linalg.eig(cov_train)\n",
    "# reduced_train_data = np.empty((train_data.shape[0], rank))\n",
    "# reduced_test_data = np.empty((test_data.shape[0], rank))\n",
    "# index_sort = np.argsort(eigval)[::-1]\n",
    "# eff_eig_vec = np.empty((rank, train_data.shape[1]))\n",
    "\n",
    "# for i in range(rank):\n",
    "#     eff_eig_vec[i] = eigvec[:,index_sort[i]].real\n",
    "\n",
    "# eff_eig_vec = eff_eig_vec.T\n",
    "# reduced_train_data = np.matmul(train_data, eff_eig_vec)\n",
    "# reduced_test_data = np.matmul(test_data, eff_eig_vec)\n",
    "cov_class = np.empty((10, reduced_train_data.shape[1], reduced_train_data.shape[1]))\n",
    "mean_class = np.empty((10, 1, reduced_train_data.shape[1]))\n",
    "\n",
    "for i in range(10):\n",
    "    sample_class = reduced_train_data[np.where(train_labels==i)]\n",
    "    cov_class[i] = np.cov(sample_class.T)\n",
    "    mean_class[i] = np.mean(sample_class, axis=0)\n",
    "\n",
    "for test_index in range(reduced_test_data.shape[0]):\n",
    "    prob = -10**20\n",
    "    class_label = -2\n",
    "    cnt_arr = np.zeros(10)\n",
    "    #prob_arr = np.empty(10)\n",
    "    for i in range(9):\n",
    "        for j in range(i+1, 10):    \n",
    "            cov_avg = (cov_class[i] + cov_class[j])/2\n",
    "            #print(cov_avg.shape)\n",
    "            mean_class_i = mean_class[i]\n",
    "            #print(mean_class_i.shape)\n",
    "            mean_class_j = mean_class[j]\n",
    "            cov_avg_inv = np.linalg.inv(cov_avg)\n",
    "            log_term_i = get_prob_from_gaussian(mean_class_i, cov_avg, cov_avg_inv, reduced_test_data[test_index].T)\n",
    "            log_term_j = get_prob_from_gaussian(mean_class_j, cov_avg, cov_avg_inv, reduced_test_data[test_index].T)\n",
    "            \n",
    "            if log_term_i>log_term_j:\n",
    "                cnt_arr[i]+=1\n",
    "            else:\n",
    "                cnt_arr[j]+=1\n",
    "    cnt_index_sort = np.argsort(cnt_arr)[::-1]\n",
    "    class_label = cnt_index_sort[0]\n",
    "    if test_labels[test_index] == class_label:\n",
    "        accuracy = accuracy + 1\n",
    "\n",
    "print((accuracy/1000)*100)"
   ]
  },
  {
   "cell_type": "code",
   "execution_count": 11,
   "metadata": {},
   "outputs": [
    {
     "name": "stdout",
     "output_type": "stream",
     "text": [
      "76.0\n"
     ]
    }
   ],
   "source": [
    "# Print accuracy using Simple Perpendicular Bisector majority voting method\n",
    "def get_prob_from_gaussian(mean_class, cov_class, cov_inv, test_sample):\n",
    "    x_minus_mean = ((test_sample - mean_class)**2).sum()\n",
    "    return np.sqrt(x_minus_mean)\n",
    "    \n",
    "accuracy = 0\n",
    "rank = 40\n",
    "#eigval, eigvec = np.linalg.eig(cov_train)\n",
    "# reduced_train_data = np.empty((train_data.shape[0], rank))\n",
    "# reduced_test_data = np.empty((test_data.shape[0], rank))\n",
    "# index_sort = np.argsort(eigval)[::-1]\n",
    "# eff_eig_vec = np.empty((rank, train_data.shape[1]))\n",
    "\n",
    "# for i in range(rank):\n",
    "#     eff_eig_vec[i] = eigvec[:,index_sort[i]].real\n",
    "\n",
    "# eff_eig_vec = eff_eig_vec.T\n",
    "# reduced_train_data = np.matmul(train_data, eff_eig_vec)\n",
    "# reduced_test_data = np.matmul(test_data, eff_eig_vec)\n",
    "# cov_class = np.empty((10, reduced_train_data.shape[1], reduced_train_data.shape[1]))\n",
    "\n",
    "for test_index in range(reduced_test_data.shape[0]):\n",
    "    prob = -10**20\n",
    "    class_label = -2\n",
    "    cnt_arr = np.zeros(10)\n",
    "    prob_arr = np.empty(10)\n",
    "    for class_index in range(10):\n",
    "        sample_class = reduced_train_data[np.where(train_labels==class_index)]\n",
    "        cov_class[class_index] = np.cov(sample_class.T)\n",
    "        mean_class = np.mean(sample_class, axis=0)\n",
    "        cov_inv = np.linalg.inv(cov_class[class_index])\n",
    "        log_term = get_prob_from_gaussian(mean_class, cov_class[class_index], cov_inv, reduced_test_data[test_index])\n",
    "        prob_arr[class_index] = log_term\n",
    "    \n",
    "    for i in range(9):\n",
    "        for j in range(i+1, 10):\n",
    "            if prob_arr[i]<prob_arr[j]:\n",
    "                cnt_arr[i]+=1\n",
    "            else:\n",
    "                cnt_arr[j]+=1\n",
    "    cnt_index_sort = np.argsort(cnt_arr)[::-1]\n",
    "    class_label = cnt_index_sort[0]\n",
    "    if test_labels[test_index] == class_label:\n",
    "        accuracy = accuracy + 1\n",
    "\n",
    "print((accuracy/1000)*100)"
   ]
  },
  {
   "cell_type": "markdown",
   "metadata": {
    "editable": false
   },
   "source": [
    "### 1.3.3 Question 4\n",
    "Compare performances and salient observations"
   ]
  },
  {
   "cell_type": "markdown",
   "metadata": {},
   "source": [
    "---\n",
    "Your analysis here (double click to edit)\n",
    "* The performance of MLE and MAP are similar. Since prior probability in MAP only adds a constant term to the gaussian, we get the same accuracies. Prior probability = 1/10 for each class(ASSUMPTION).\n",
    "\n",
    "* MLE is better than than bayesian pairwise method because we take determinant of covariance matrix into account.\n",
    "* The performance of bayesian pairwise method is better than perpendicular bisector method because mahalanobis distance is in general a better metric for distance in comparison to l2norm.\n",
    "---"
   ]
  },
  {
   "cell_type": "markdown",
   "metadata": {
    "editable": false
   },
   "source": [
    "## 1.3.4 Nearest Neighbour based Tasks and Design\n",
    "---\n",
    "### 1.3.4 Question 1 : NN Classification with various K\n",
    "Implement a KNN classifier and print accuracies on the test set with K=1,3,7"
   ]
  },
  {
   "cell_type": "code",
   "execution_count": 12,
   "metadata": {},
   "outputs": [
    {
     "name": "stdout",
     "output_type": "stream",
     "text": [
      "90.7\n",
      "91.9\n",
      "91.5\n"
     ]
    }
   ],
   "source": [
    "# Your code here\n",
    "# Print accuracies with K = 1, 3, 7\\\n",
    "def l2_distance(x, y):\n",
    "    dists = -2 * np.dot(x, y.T) + np.sum(y**2, axis=1) + np.sum(x**2, axis=1)[:, np.newaxis]\n",
    "    return dists\n",
    "\n",
    "def getknn_accuracy(k):\n",
    "    accuracy = 0\n",
    "    test_range = test_data.shape[0]\n",
    "    train_range = train_data.shape[0]\n",
    "    for i in range(test_range):\n",
    "        euc_dis = np.zeros((train_range,2))\n",
    "        for j in range(train_range):\n",
    "            dist = ((test_data[i] - train_data[j])**2).sum()\n",
    "            euc_dis[j] = dist, train_labels[j]\n",
    "            \n",
    "        euc_dis = euc_dis[euc_dis[:,0].argsort()]\n",
    "        cnt_arr = np.zeros(10)\n",
    "        for index in range(k):\n",
    "            cnt_arr[int(euc_dis[index][1])] += 1\n",
    "\n",
    "        maxi = cnt_arr[int(euc_dis[0][1])]\n",
    "        label = euc_dis[0][1]\n",
    "        \n",
    "        for index in range(k):\n",
    "            if cnt_arr[ int(euc_dis[index][1]) ] > maxi:\n",
    "                label = euc_dis[index][1]\n",
    "                \n",
    "        if label == test_labels[i]:\n",
    "            accuracy = accuracy + 1\n",
    "            \n",
    "    return accuracy/test_data.shape[0]\n",
    "\n",
    "accuracy = getknn_accuracy(1)\n",
    "print(accuracy*100)\n",
    "accuracy = getknn_accuracy(3)\n",
    "print(accuracy*100)\n",
    "accuracy = getknn_accuracy(7)\n",
    "print(accuracy*100)"
   ]
  },
  {
   "cell_type": "markdown",
   "metadata": {
    "editable": false
   },
   "source": [
    "### 1.3.4 Question 1 continued\n",
    "- Why / why not are the accuracies the same?\n",
    "- How do we identify the best K? Suggest a computational procedure with a logical explanation."
   ]
  },
  {
   "cell_type": "markdown",
   "metadata": {},
   "source": [
    "---\n",
    "Your analysis here (double click to edit)\n",
    "Accuracies won't be same because in knn method we take the k nearest neighbours for a given test sample. The label asscociated with the nearest neighbour having maximum count gets assigned to the test sample.\n",
    "We can start by taking k = 1 and then incrementing it's value. If the value of accuracy decreases at any particular step, we stop there.\n",
    "\n",
    "---"
   ]
  },
  {
   "cell_type": "markdown",
   "metadata": {
    "editable": false
   },
   "source": [
    "### 1.3.4 Question 2 :  Reverse NN based outlier detection\n",
    "A sample can be thought of as an outlier is it is NOT in the nearest neighbour set of anybody else. Expand this idea into an algorithm."
   ]
  },
  {
   "cell_type": "code",
   "execution_count": 13,
   "metadata": {
    "editable": false
   },
   "outputs": [
    {
     "name": "stdout",
     "output_type": "stream",
     "text": [
      "(20, 784)\n"
     ]
    }
   ],
   "source": [
    "# This cell reads mixed data containing both MNIST digits and English characters.\n",
    "# The labels for this mixed data are random and are hence ignored.\n",
    "mixed_data, _ = read_data(\"outliers.csv\")\n",
    "print(mixed_data.shape)"
   ]
  },
  {
   "cell_type": "code",
   "execution_count": 14,
   "metadata": {},
   "outputs": [
    {
     "name": "stdout",
     "output_type": "stream",
     "text": [
      "2445\n",
      "741\n",
      "196\n"
     ]
    }
   ],
   "source": [
    "train_and_mixed = np.empty((train_data.shape[0]+mixed_data.shape[0], train_data.shape[1]))\n",
    "train_and_mixed[0:train_data.shape[0]] = train_data\n",
    "#print(train_and_mixed[0], train_data[0])\n",
    "train_and_mixed[train_data.shape[0]:train_and_mixed.shape[0]] = mixed_data\n",
    "#cnt_arr = np.zeros(train_and_mixed.shape[0])\n",
    "\n",
    "def reverse_nn(k):\n",
    "    train_data_range = train_data.shape[0]\n",
    "    train_and_mixed_range = train_and_mixed.shape[0]\n",
    "    cnt_arr = np.zeros(train_and_mixed.shape[0])\n",
    "    euc_dis = l2_distance(train_data, train_and_mixed)\n",
    "    \n",
    "    for i in range(euc_dis.shape[0]):\n",
    "        euc_sort = np.argsort(euc_dis[i])\n",
    "        for j in range(1, k+1):\n",
    "            cnt_arr[int(euc_sort[j])] += 1\n",
    "        \n",
    "    #print(euc_dis.shape)\n",
    "    \n",
    "#         euc_dis = euc_dis[euc_dis[:,0].argsort()]\n",
    "#         for index in range(1, k+1):\n",
    "#             cnt_arr[int(euc_dis[index][1])] += 1\n",
    "            \n",
    "    return cnt_arr\n",
    " \n",
    "outliers = 0\n",
    "cnt_arr = reverse_nn(1)\n",
    "for i in range(train_and_mixed.shape[0]):\n",
    "    if cnt_arr[i]==0:\n",
    "        outliers += 1     \n",
    "print(outliers)\n",
    "\n",
    "outliers = 0\n",
    "cnt_arr = reverse_nn(3)\n",
    "for i in range(train_and_mixed.shape[0]):\n",
    "    if cnt_arr[i]==0:\n",
    "        outliers += 1     \n",
    "print(outliers)\n",
    "\n",
    "outliers = 0\n",
    "cnt_arr = reverse_nn(7)\n",
    "for i in range(train_and_mixed.shape[0]):\n",
    "    if cnt_arr[i]==0:\n",
    "        outliers += 1     \n",
    "print(outliers)\n",
    "\n",
    "# cnt_arr = reverse_nn(7)\n",
    "# outliers = 0\n",
    "# for i in range(train_data.shape[0], train_and_mixed.shape[0]):\n",
    "#     if cnt_arr[i]==0:\n",
    "#         outliers += 1     \n",
    "# print(outliers)"
   ]
  },
  {
   "cell_type": "markdown",
   "metadata": {
    "editable": false
   },
   "source": [
    "### 1.3.4 Question 3 : NN for regression\n",
    "Assume that each classID in the train set corresponds to a neatness score as:\n",
    "$$ neatness = \\frac{classID}{10} $$\n",
    "\n",
    "---\n",
    "Assume we had to predict the neatness score for each test sample using NN based techiniques on the train set. Describe the algorithm."
   ]
  },
  {
   "cell_type": "markdown",
   "metadata": {},
   "source": [
    "---\n",
    "Your algorithm here (double click to edit)\n",
    "Steps:\n",
    "> We predict the classID using KNN method.\n",
    "> Neatness score = modulus(predicted classID - actual classID)/10\n",
    "> We sum over the neatness score over all the samples and divide it by total number of test samples.\n",
    "---"
   ]
  },
  {
   "cell_type": "markdown",
   "metadata": {
    "editable": false
   },
   "source": [
    "### 1.3.4 Question 3 continued\n",
    "Validate your algorithm on the test set. This code should print mean absolute error on the test set, using the train set for NN based regression."
   ]
  },
  {
   "cell_type": "code",
   "execution_count": 15,
   "metadata": {},
   "outputs": [
    {
     "name": "stdout",
     "output_type": "stream",
     "text": [
      "0.03540000000000002\n",
      "0.030500000000000006\n",
      "0.03360000000000002\n"
     ]
    }
   ],
   "source": [
    "# Your code here\n",
    "def getknn_accuracy(k):\n",
    "    accuracy = 0\n",
    "    count = 0\n",
    "    test_range = test_data.shape[0]\n",
    "    train_range = train_data.shape[0]\n",
    "    for i in range(test_range):\n",
    "        euc_dis = np.zeros((train_range,2))\n",
    "        for j in range(train_range):\n",
    "            dist = ((test_data[i] - train_data[j])**2).sum()\n",
    "            euc_dis[j] = dist, train_labels[j]\n",
    "            \n",
    "        euc_dis = euc_dis[euc_dis[:,0].argsort()]\n",
    "        cnt_arr = np.zeros(10)\n",
    "        for index in range(k):\n",
    "            cnt_arr[int(euc_dis[index][1])] += 1\n",
    "\n",
    "        maxi = cnt_arr[int(euc_dis[0][1])]\n",
    "        label = euc_dis[0][1]\n",
    "        \n",
    "        for index in range(k):\n",
    "            if cnt_arr[ int(euc_dis[index][1]) ] > maxi:\n",
    "                label = euc_dis[index][1]\n",
    "                \n",
    "        count = count + np.abs(label - test_labels[i])/10\n",
    "            \n",
    "    return count/test_data.shape[0]\n",
    "accuracy = getknn_accuracy(1)\n",
    "print(accuracy)\n",
    "accuracy = getknn_accuracy(3)\n",
    "print(accuracy)\n",
    "accuracy = getknn_accuracy(7)\n",
    "print(accuracy)"
   ]
  },
  {
   "cell_type": "markdown",
   "metadata": {
    "editable": false
   },
   "source": [
    "---\n",
    "# FOLLOW THE SUBMISSION INSTRUCTIONS\n",
    "---"
   ]
  }
 ],
 "metadata": {
  "kernelspec": {
   "display_name": "Python 3",
   "language": "python",
   "name": "python3"
  },
  "language_info": {
   "codemirror_mode": {
    "name": "ipython",
    "version": 3
   },
   "file_extension": ".py",
   "mimetype": "text/x-python",
   "name": "python",
   "nbconvert_exporter": "python",
   "pygments_lexer": "ipython3",
   "version": "3.7.3"
  }
 },
 "nbformat": 4,
 "nbformat_minor": 2
}
